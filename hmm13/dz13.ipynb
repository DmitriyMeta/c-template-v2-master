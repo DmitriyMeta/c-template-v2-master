import random
import time
start_time = time.time()
def QuickSort(A, l, r):
    if l >= r:
        return 
    else:
        q = random.choice(A[l:r + 1])
        i = l
        j = r
        while i <= j:
            while A[i] < q:
                i += 1
            while A[j] > q:
                j -= 1
            if i <= j: 
                A[i], A[j] = A[j], A[i]
                i += 1
                j -= 1 
                QuickSort(A, l, j)
                QuickSort(A, i, r)
alist=[]
for i in range(100):
  for i in range(1000):
    alist.append(random.randint(1, 100))
  alist = [int(x) for x in alist]
  QuickSort(alist, 0, 99)
print(time.time()-start_time)